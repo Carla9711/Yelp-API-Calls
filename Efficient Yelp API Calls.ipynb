{
 "cells": [
  {
   "cell_type": "code",
   "execution_count": 2,
   "id": "85cd5689-ed37-48e5-a513-a38d7d0131a8",
   "metadata": {},
   "outputs": [],
   "source": [
    "# library imports\n",
    "import numpy as np\n",
    "import pandas as pd\n",
    "import matplotlib.pyplot as plt\n",
    "import seaborn as sns\n",
    "\n",
    "import os, json, math, time\n",
    "from yelpapi import YelpAPI\n",
    "from tqdm.notebook import tqdm_notebook"
   ]
  },
  {
   "cell_type": "code",
   "execution_count": 3,
   "id": "631e87df-f503-427d-91a0-50f17b5b9411",
   "metadata": {},
   "outputs": [],
   "source": [
    "# load API Credentials\n",
    "with open('/Users/x471074/.secret/yelp_api.json') as f:\n",
    "    login = json.load(f)\n",
    "\n",
    "# isnstantiate YelpAPI Variable\n",
    "yelp_api = YelpAPI(login['api-key'], timeout_s=5.0)"
   ]
  },
  {
   "cell_type": "code",
   "execution_count": 4,
   "id": "4a9753ac-88ab-4da5-8fc8-1185ec51fe8a",
   "metadata": {},
   "outputs": [],
   "source": [
    "# define search\n",
    "LOCATION = 'NY, NY'\n",
    "TERM = 'Pizza'"
   ]
  },
  {
   "cell_type": "code",
   "execution_count": 5,
   "id": "7c613656-e966-4e1d-9b29-446bb22e5291",
   "metadata": {},
   "outputs": [
    {
     "data": {
      "text/plain": [
       "'Data/results_in_progress_NY_pizza.json'"
      ]
     },
     "execution_count": 5,
     "metadata": {},
     "output_type": "execute_result"
    }
   ],
   "source": [
    "# create a results in progress JSON file\n",
    "# include search terms in filename\n",
    "JSON_FILE = \"Data/results_in_progress_NY_pizza.json\"\n",
    "JSON_FILE"
   ]
  },
  {
   "cell_type": "code",
   "execution_count": 8,
   "id": "75b5c636-1bf9-45db-8ddf-cf9c2ebd7a0c",
   "metadata": {},
   "outputs": [
    {
     "name": "stdout",
     "output_type": "stream",
     "text": [
      "[i] Data/results_in_progress_NY_pizza.json not found. Saving empty list to file.\n"
     ]
    }
   ],
   "source": [
    "# Check if JSON file exists\n",
    "# If it doesn't exists create any folders needed and save empty list as JSON_FILE\n",
    "\n",
    "# check if file exists\n",
    "file_exists = os.path.isfile(JSON_FILE)\n",
    "# if it does not exist\n",
    "if file_exists == False:\n",
    "\n",
    "    # create needed folder\n",
    "    folder = os.path.dirname(JSON_FILE)\n",
    "\n",
    "    # if JSON_FILE included a folder\n",
    "    if len(folder)>0:\n",
    "        # create the folder\n",
    "        os.makedirs(folder,exist_ok=True)\n",
    "\n",
    "    # inform user and save empry list\n",
    "    print(f'[i] {JSON_FILE} not found. Saving empty list to file.')\n",
    "\n",
    "    with open(JSON_FILE,'w') as f:\n",
    "        json.dump([],f)\n",
    "\n",
    "else:\n",
    "    print(f\"[i] {JSON_FILE} already exists\")"
   ]
  },
  {
   "cell_type": "code",
   "execution_count": 9,
   "id": "25aef79c-7d8d-4298-be64-3eaf175b9438",
   "metadata": {},
   "outputs": [
    {
     "name": "stdout",
     "output_type": "stream",
     "text": [
      "- 0 previous results found\n"
     ]
    }
   ],
   "source": [
    "# Load previous results and use len of results for offset\n",
    "with open(JSON_FILE, 'r') as f:\n",
    "    previous_results = json.load(f)\n",
    "\n",
    "n_results = len(previous_results)\n",
    "print(f'- {n_results} previous results found')\n"
   ]
  },
  {
   "cell_type": "code",
   "execution_count": 11,
   "id": "7d62678e-3823-4c1b-85d4-ebcd692ee0ea",
   "metadata": {},
   "outputs": [
    {
     "data": {
      "text/plain": [
       "dict_keys(['businesses', 'total', 'region'])"
      ]
     },
     "execution_count": 11,
     "metadata": {},
     "output_type": "execute_result"
    }
   ],
   "source": [
    "# use search query to perform API calls\n",
    "\n",
    "results = yelp_api.search_query(location=LOCATION,\n",
    "                                term=TERM,\n",
    "                                 offset=n_results)\n",
    "\n",
    "results.keys()"
   ]
  },
  {
   "cell_type": "code",
   "execution_count": 13,
   "id": "a2c83741-9305-4ebd-b7c2-93860356ed7f",
   "metadata": {},
   "outputs": [
    {
     "data": {
      "text/plain": [
       "12500"
      ]
     },
     "execution_count": 13,
     "metadata": {},
     "output_type": "execute_result"
    }
   ],
   "source": [
    "# total results available\n",
    "total_results = results['total']\n",
    "total_results"
   ]
  },
  {
   "cell_type": "code",
   "execution_count": 14,
   "id": "a3dd8a28-73e5-43a9-a525-ee103d33bab9",
   "metadata": {},
   "outputs": [
    {
     "data": {
      "text/plain": [
       "20"
      ]
     },
     "execution_count": 14,
     "metadata": {},
     "output_type": "execute_result"
    }
   ],
   "source": [
    "# how many results did we retrieve\n",
    "results_per_page = len(results['businesses'])\n",
    "results_per_page"
   ]
  },
  {
   "cell_type": "code",
   "execution_count": 15,
   "id": "d3aead79-7899-4ed4-895f-0184fd7e2f23",
   "metadata": {},
   "outputs": [
    {
     "data": {
      "text/plain": [
       "625"
      ]
     },
     "execution_count": 15,
     "metadata": {},
     "output_type": "execute_result"
    }
   ],
   "source": [
    "import time, math\n",
    "\n",
    "# use math.ceil to round up for the total number of pages of results\n",
    "n_pages = math.ceil((results['total']-n_results)/ results_per_page)\n",
    "n_pages"
   ]
  },
  {
   "cell_type": "code",
   "execution_count": 16,
   "id": "c016bcc3-ffd5-4047-b810-29db28966b4f",
   "metadata": {},
   "outputs": [],
   "source": [
    "# join new result with previous list and save\n",
    "previous_results.extend(results['businesses'])\n",
    "with open(JSON_FILE, 'w') as f:\n",
    "    json.dump(previous_results,f)"
   ]
  },
  {
   "cell_type": "code",
   "execution_count": 22,
   "id": "1be45423-7c2e-43ed-85fd-f37d0759198e",
   "metadata": {},
   "outputs": [
    {
     "data": {
      "application/vnd.jupyter.widget-view+json": {
       "model_id": "1501abc1ac1b4088a8ce3fa6f1f68605",
       "version_major": 2,
       "version_minor": 0
      },
      "text/plain": [
       "  0%|          | 0/625 [00:00<?, ?it/s]"
      ]
     },
     "metadata": {},
     "output_type": "display_data"
    },
    {
     "name": "stdout",
     "output_type": "stream",
     "text": [
      "Exceeded 1000 api calls. Stopping loop.\n"
     ]
    }
   ],
   "source": [
    "for i in tqdm_notebook(range(1, n_pages+1)):\n",
    "\n",
    "    # read in results in progress file and check length\n",
    "    with open(JSON_FILE, 'r') as f:\n",
    "        previous_results = json.load(f)\n",
    "\n",
    "    # save number of results to use as offset\n",
    "    n_results = len(previous_results)\n",
    "\n",
    "    if (n_results + results_per_page) > 1000:\n",
    "        print('Exceeded 1000 api calls. Stopping loop.')\n",
    "        break\n",
    "\n",
    "    # use n_results as offset\n",
    "    results = yelp_api.search_query(location=LOCATION,\n",
    "                                   term=TERM,\n",
    "                                   offset=n_results)\n",
    "\n",
    "    # append new results and save to file\n",
    "    previous_results.extend(results['businesses'])\n",
    "\n",
    "    with open(JSON_FILE, 'w') as f:\n",
    "        json.dump(previous_results,f)\n",
    "\n",
    "    time.sleep(0.2)"
   ]
  },
  {
   "cell_type": "code",
   "execution_count": 23,
   "id": "37ffc542-af3f-4eca-9ca5-753a36dbcff3",
   "metadata": {},
   "outputs": [
    {
     "data": {
      "text/html": [
       "<div>\n",
       "<style scoped>\n",
       "    .dataframe tbody tr th:only-of-type {\n",
       "        vertical-align: middle;\n",
       "    }\n",
       "\n",
       "    .dataframe tbody tr th {\n",
       "        vertical-align: top;\n",
       "    }\n",
       "\n",
       "    .dataframe thead th {\n",
       "        text-align: right;\n",
       "    }\n",
       "</style>\n",
       "<table border=\"1\" class=\"dataframe\">\n",
       "  <thead>\n",
       "    <tr style=\"text-align: right;\">\n",
       "      <th></th>\n",
       "      <th>id</th>\n",
       "      <th>alias</th>\n",
       "      <th>name</th>\n",
       "      <th>image_url</th>\n",
       "      <th>is_closed</th>\n",
       "      <th>url</th>\n",
       "      <th>review_count</th>\n",
       "      <th>categories</th>\n",
       "      <th>rating</th>\n",
       "      <th>coordinates</th>\n",
       "      <th>transactions</th>\n",
       "      <th>price</th>\n",
       "      <th>location</th>\n",
       "      <th>phone</th>\n",
       "      <th>display_phone</th>\n",
       "      <th>distance</th>\n",
       "    </tr>\n",
       "  </thead>\n",
       "  <tbody>\n",
       "    <tr>\n",
       "      <th>0</th>\n",
       "      <td>zj8Lq1T8KIC5zwFief15jg</td>\n",
       "      <td>prince-street-pizza-new-york-2</td>\n",
       "      <td>Prince Street Pizza</td>\n",
       "      <td>https://s3-media4.fl.yelpcdn.com/bphoto/PfI8oV...</td>\n",
       "      <td>False</td>\n",
       "      <td>https://www.yelp.com/biz/prince-street-pizza-n...</td>\n",
       "      <td>5081</td>\n",
       "      <td>[{'alias': 'pizza', 'title': 'Pizza'}, {'alias...</td>\n",
       "      <td>4.5</td>\n",
       "      <td>{'latitude': 40.72308755605564, 'longitude': -...</td>\n",
       "      <td>[delivery, pickup]</td>\n",
       "      <td>$</td>\n",
       "      <td>{'address1': '27 Prince St', 'address2': None,...</td>\n",
       "      <td>+12129664100</td>\n",
       "      <td>(212) 966-4100</td>\n",
       "      <td>1961.877142</td>\n",
       "    </tr>\n",
       "    <tr>\n",
       "      <th>1</th>\n",
       "      <td>ysqgdbSrezXgVwER2kQWKA</td>\n",
       "      <td>julianas-brooklyn-3</td>\n",
       "      <td>Juliana's</td>\n",
       "      <td>https://s3-media2.fl.yelpcdn.com/bphoto/od36nF...</td>\n",
       "      <td>False</td>\n",
       "      <td>https://www.yelp.com/biz/julianas-brooklyn-3?a...</td>\n",
       "      <td>2702</td>\n",
       "      <td>[{'alias': 'pizza', 'title': 'Pizza'}]</td>\n",
       "      <td>4.5</td>\n",
       "      <td>{'latitude': 40.70274718768062, 'longitude': -...</td>\n",
       "      <td>[delivery]</td>\n",
       "      <td>$$</td>\n",
       "      <td>{'address1': '19 Old Fulton St', 'address2': '...</td>\n",
       "      <td>+17185966700</td>\n",
       "      <td>(718) 596-6700</td>\n",
       "      <td>308.569844</td>\n",
       "    </tr>\n",
       "    <tr>\n",
       "      <th>2</th>\n",
       "      <td>WG639VkTjmK5dzydd1BBJA</td>\n",
       "      <td>rubirosa-new-york-2</td>\n",
       "      <td>Rubirosa</td>\n",
       "      <td>https://s3-media3.fl.yelpcdn.com/bphoto/l0Phrn...</td>\n",
       "      <td>False</td>\n",
       "      <td>https://www.yelp.com/biz/rubirosa-new-york-2?a...</td>\n",
       "      <td>3193</td>\n",
       "      <td>[{'alias': 'italian', 'title': 'Italian'}, {'a...</td>\n",
       "      <td>4.5</td>\n",
       "      <td>{'latitude': 40.722766, 'longitude': -73.996233}</td>\n",
       "      <td>[pickup]</td>\n",
       "      <td>$$</td>\n",
       "      <td>{'address1': '235 Mulberry St', 'address2': ''...</td>\n",
       "      <td>+12129650500</td>\n",
       "      <td>(212) 965-0500</td>\n",
       "      <td>1932.946770</td>\n",
       "    </tr>\n",
       "    <tr>\n",
       "      <th>3</th>\n",
       "      <td>v1DHGRNCH9247WLYoaoA9A</td>\n",
       "      <td>l-industrie-pizzeria-brooklyn</td>\n",
       "      <td>L'industrie Pizzeria</td>\n",
       "      <td>https://s3-media1.fl.yelpcdn.com/bphoto/1-VBwA...</td>\n",
       "      <td>False</td>\n",
       "      <td>https://www.yelp.com/biz/l-industrie-pizzeria-...</td>\n",
       "      <td>1138</td>\n",
       "      <td>[{'alias': 'pizza', 'title': 'Pizza'}]</td>\n",
       "      <td>4.5</td>\n",
       "      <td>{'latitude': 40.71162, 'longitude': -73.95783}</td>\n",
       "      <td>[delivery]</td>\n",
       "      <td>$</td>\n",
       "      <td>{'address1': '254 S 2nd St', 'address2': '', '...</td>\n",
       "      <td>+17185990002</td>\n",
       "      <td>(718) 599-0002</td>\n",
       "      <td>3145.016041</td>\n",
       "    </tr>\n",
       "    <tr>\n",
       "      <th>4</th>\n",
       "      <td>WIhm0W9197f_rRtDziq5qQ</td>\n",
       "      <td>lombardis-pizza-new-york-4</td>\n",
       "      <td>Lombardi's Pizza</td>\n",
       "      <td>https://s3-media1.fl.yelpcdn.com/bphoto/lBq1IB...</td>\n",
       "      <td>False</td>\n",
       "      <td>https://www.yelp.com/biz/lombardis-pizza-new-y...</td>\n",
       "      <td>6619</td>\n",
       "      <td>[{'alias': 'pizza', 'title': 'Pizza'}]</td>\n",
       "      <td>4.0</td>\n",
       "      <td>{'latitude': 40.7215934960083, 'longitude': -7...</td>\n",
       "      <td>[delivery, pickup]</td>\n",
       "      <td>$$</td>\n",
       "      <td>{'address1': '32 Spring St', 'address2': '', '...</td>\n",
       "      <td>+12129417994</td>\n",
       "      <td>(212) 941-7994</td>\n",
       "      <td>1798.995978</td>\n",
       "    </tr>\n",
       "  </tbody>\n",
       "</table>\n",
       "</div>"
      ],
      "text/plain": [
       "                       id                           alias  \\\n",
       "0  zj8Lq1T8KIC5zwFief15jg  prince-street-pizza-new-york-2   \n",
       "1  ysqgdbSrezXgVwER2kQWKA             julianas-brooklyn-3   \n",
       "2  WG639VkTjmK5dzydd1BBJA             rubirosa-new-york-2   \n",
       "3  v1DHGRNCH9247WLYoaoA9A   l-industrie-pizzeria-brooklyn   \n",
       "4  WIhm0W9197f_rRtDziq5qQ      lombardis-pizza-new-york-4   \n",
       "\n",
       "                   name                                          image_url  \\\n",
       "0   Prince Street Pizza  https://s3-media4.fl.yelpcdn.com/bphoto/PfI8oV...   \n",
       "1             Juliana's  https://s3-media2.fl.yelpcdn.com/bphoto/od36nF...   \n",
       "2              Rubirosa  https://s3-media3.fl.yelpcdn.com/bphoto/l0Phrn...   \n",
       "3  L'industrie Pizzeria  https://s3-media1.fl.yelpcdn.com/bphoto/1-VBwA...   \n",
       "4      Lombardi's Pizza  https://s3-media1.fl.yelpcdn.com/bphoto/lBq1IB...   \n",
       "\n",
       "   is_closed                                                url  review_count  \\\n",
       "0      False  https://www.yelp.com/biz/prince-street-pizza-n...          5081   \n",
       "1      False  https://www.yelp.com/biz/julianas-brooklyn-3?a...          2702   \n",
       "2      False  https://www.yelp.com/biz/rubirosa-new-york-2?a...          3193   \n",
       "3      False  https://www.yelp.com/biz/l-industrie-pizzeria-...          1138   \n",
       "4      False  https://www.yelp.com/biz/lombardis-pizza-new-y...          6619   \n",
       "\n",
       "                                          categories  rating  \\\n",
       "0  [{'alias': 'pizza', 'title': 'Pizza'}, {'alias...     4.5   \n",
       "1             [{'alias': 'pizza', 'title': 'Pizza'}]     4.5   \n",
       "2  [{'alias': 'italian', 'title': 'Italian'}, {'a...     4.5   \n",
       "3             [{'alias': 'pizza', 'title': 'Pizza'}]     4.5   \n",
       "4             [{'alias': 'pizza', 'title': 'Pizza'}]     4.0   \n",
       "\n",
       "                                         coordinates        transactions  \\\n",
       "0  {'latitude': 40.72308755605564, 'longitude': -...  [delivery, pickup]   \n",
       "1  {'latitude': 40.70274718768062, 'longitude': -...          [delivery]   \n",
       "2   {'latitude': 40.722766, 'longitude': -73.996233}            [pickup]   \n",
       "3     {'latitude': 40.71162, 'longitude': -73.95783}          [delivery]   \n",
       "4  {'latitude': 40.7215934960083, 'longitude': -7...  [delivery, pickup]   \n",
       "\n",
       "  price                                           location         phone  \\\n",
       "0     $  {'address1': '27 Prince St', 'address2': None,...  +12129664100   \n",
       "1    $$  {'address1': '19 Old Fulton St', 'address2': '...  +17185966700   \n",
       "2    $$  {'address1': '235 Mulberry St', 'address2': ''...  +12129650500   \n",
       "3     $  {'address1': '254 S 2nd St', 'address2': '', '...  +17185990002   \n",
       "4    $$  {'address1': '32 Spring St', 'address2': '', '...  +12129417994   \n",
       "\n",
       "    display_phone     distance  \n",
       "0  (212) 966-4100  1961.877142  \n",
       "1  (718) 596-6700   308.569844  \n",
       "2  (212) 965-0500  1932.946770  \n",
       "3  (718) 599-0002  3145.016041  \n",
       "4  (212) 941-7994  1798.995978  "
      ]
     },
     "metadata": {},
     "output_type": "display_data"
    },
    {
     "data": {
      "text/html": [
       "<div>\n",
       "<style scoped>\n",
       "    .dataframe tbody tr th:only-of-type {\n",
       "        vertical-align: middle;\n",
       "    }\n",
       "\n",
       "    .dataframe tbody tr th {\n",
       "        vertical-align: top;\n",
       "    }\n",
       "\n",
       "    .dataframe thead th {\n",
       "        text-align: right;\n",
       "    }\n",
       "</style>\n",
       "<table border=\"1\" class=\"dataframe\">\n",
       "  <thead>\n",
       "    <tr style=\"text-align: right;\">\n",
       "      <th></th>\n",
       "      <th>id</th>\n",
       "      <th>alias</th>\n",
       "      <th>name</th>\n",
       "      <th>image_url</th>\n",
       "      <th>is_closed</th>\n",
       "      <th>url</th>\n",
       "      <th>review_count</th>\n",
       "      <th>categories</th>\n",
       "      <th>rating</th>\n",
       "      <th>coordinates</th>\n",
       "      <th>transactions</th>\n",
       "      <th>price</th>\n",
       "      <th>location</th>\n",
       "      <th>phone</th>\n",
       "      <th>display_phone</th>\n",
       "      <th>distance</th>\n",
       "    </tr>\n",
       "  </thead>\n",
       "  <tbody>\n",
       "    <tr>\n",
       "      <th>995</th>\n",
       "      <td>L1pgoxWt8I5cp1c9van_4Q</td>\n",
       "      <td>pizzeria-hoboken-hoboken</td>\n",
       "      <td>Pizzeria Hoboken</td>\n",
       "      <td>https://s3-media4.fl.yelpcdn.com/bphoto/INcnxm...</td>\n",
       "      <td>False</td>\n",
       "      <td>https://www.yelp.com/biz/pizzeria-hoboken-hobo...</td>\n",
       "      <td>68</td>\n",
       "      <td>[{'alias': 'pizza', 'title': 'Pizza'}, {'alias...</td>\n",
       "      <td>3.0</td>\n",
       "      <td>{'latitude': 40.7472306936165, 'longitude': -7...</td>\n",
       "      <td>[pickup, delivery]</td>\n",
       "      <td>$</td>\n",
       "      <td>{'address1': '732 Jefferson St', 'address2': '...</td>\n",
       "      <td>+12016836158</td>\n",
       "      <td>(201) 683-6158</td>\n",
       "      <td>5811.341336</td>\n",
       "    </tr>\n",
       "    <tr>\n",
       "      <th>996</th>\n",
       "      <td>rtivWWzG0XjUuhSrwusTgQ</td>\n",
       "      <td>fausto-brooklyn</td>\n",
       "      <td>Fausto</td>\n",
       "      <td>https://s3-media4.fl.yelpcdn.com/bphoto/If-kbS...</td>\n",
       "      <td>False</td>\n",
       "      <td>https://www.yelp.com/biz/fausto-brooklyn?adjus...</td>\n",
       "      <td>214</td>\n",
       "      <td>[{'alias': 'italian', 'title': 'Italian'}, {'a...</td>\n",
       "      <td>4.0</td>\n",
       "      <td>{'latitude': 40.67597, 'longitude': -73.97181}</td>\n",
       "      <td>[delivery]</td>\n",
       "      <td>$$$</td>\n",
       "      <td>{'address1': '348 Flatbush Ave', 'address2': '...</td>\n",
       "      <td>+19179091427</td>\n",
       "      <td>(917) 909-1427</td>\n",
       "      <td>3778.959234</td>\n",
       "    </tr>\n",
       "    <tr>\n",
       "      <th>997</th>\n",
       "      <td>FR_E9_Z3WG5HjeIUyTKSWw</td>\n",
       "      <td>antonios-kitchen-east-elmhurst</td>\n",
       "      <td>Antonio's Kitchen</td>\n",
       "      <td>https://s3-media2.fl.yelpcdn.com/bphoto/BpWTwB...</td>\n",
       "      <td>False</td>\n",
       "      <td>https://www.yelp.com/biz/antonios-kitchen-east...</td>\n",
       "      <td>144</td>\n",
       "      <td>[{'alias': 'italian', 'title': 'Italian'}, {'a...</td>\n",
       "      <td>3.5</td>\n",
       "      <td>{'latitude': 40.7704153034747, 'longitude': -7...</td>\n",
       "      <td>[pickup, delivery]</td>\n",
       "      <td>$$</td>\n",
       "      <td>{'address1': '76-08 21st Ave', 'address2': '',...</td>\n",
       "      <td>+17187289200</td>\n",
       "      <td>(718) 728-9200</td>\n",
       "      <td>11152.520898</td>\n",
       "    </tr>\n",
       "    <tr>\n",
       "      <th>998</th>\n",
       "      <td>G7jCcluHVgOP6n-vvZ797Q</td>\n",
       "      <td>corato-i-pizza-restaurant-ridgewood</td>\n",
       "      <td>Corato I Pizza Restaurant</td>\n",
       "      <td>https://s3-media3.fl.yelpcdn.com/bphoto/q2emK6...</td>\n",
       "      <td>False</td>\n",
       "      <td>https://www.yelp.com/biz/corato-i-pizza-restau...</td>\n",
       "      <td>160</td>\n",
       "      <td>[{'alias': 'pizza', 'title': 'Pizza'}]</td>\n",
       "      <td>2.5</td>\n",
       "      <td>{'latitude': 40.7058105, 'longitude': -73.8969...</td>\n",
       "      <td>[pickup, delivery]</td>\n",
       "      <td>$</td>\n",
       "      <td>{'address1': '66-94 Fresh Pond Rd', 'address2'...</td>\n",
       "      <td>+17184976177</td>\n",
       "      <td>(718) 497-6177</td>\n",
       "      <td>8211.971924</td>\n",
       "    </tr>\n",
       "    <tr>\n",
       "      <th>999</th>\n",
       "      <td>a9wmbku2blsP8QVDEslm4w</td>\n",
       "      <td>di-fara-pizza-by-wonder-new-york-4</td>\n",
       "      <td>Di Fara Pizza by Wonder</td>\n",
       "      <td>https://s3-media3.fl.yelpcdn.com/bphoto/5yToSE...</td>\n",
       "      <td>False</td>\n",
       "      <td>https://www.yelp.com/biz/di-fara-pizza-by-wond...</td>\n",
       "      <td>1</td>\n",
       "      <td>[{'alias': 'pizza', 'title': 'Pizza'}]</td>\n",
       "      <td>4.0</td>\n",
       "      <td>{'latitude': 40.77671, 'longitude': -73.98184}</td>\n",
       "      <td>[pickup, delivery]</td>\n",
       "      <td>NaN</td>\n",
       "      <td>{'address1': '2030 Broadway', 'address2': None...</td>\n",
       "      <td>+18558185755</td>\n",
       "      <td>(855) 818-5755</td>\n",
       "      <td>7996.859866</td>\n",
       "    </tr>\n",
       "  </tbody>\n",
       "</table>\n",
       "</div>"
      ],
      "text/plain": [
       "                         id                                alias  \\\n",
       "995  L1pgoxWt8I5cp1c9van_4Q             pizzeria-hoboken-hoboken   \n",
       "996  rtivWWzG0XjUuhSrwusTgQ                      fausto-brooklyn   \n",
       "997  FR_E9_Z3WG5HjeIUyTKSWw       antonios-kitchen-east-elmhurst   \n",
       "998  G7jCcluHVgOP6n-vvZ797Q  corato-i-pizza-restaurant-ridgewood   \n",
       "999  a9wmbku2blsP8QVDEslm4w   di-fara-pizza-by-wonder-new-york-4   \n",
       "\n",
       "                          name  \\\n",
       "995           Pizzeria Hoboken   \n",
       "996                     Fausto   \n",
       "997          Antonio's Kitchen   \n",
       "998  Corato I Pizza Restaurant   \n",
       "999    Di Fara Pizza by Wonder   \n",
       "\n",
       "                                             image_url  is_closed  \\\n",
       "995  https://s3-media4.fl.yelpcdn.com/bphoto/INcnxm...      False   \n",
       "996  https://s3-media4.fl.yelpcdn.com/bphoto/If-kbS...      False   \n",
       "997  https://s3-media2.fl.yelpcdn.com/bphoto/BpWTwB...      False   \n",
       "998  https://s3-media3.fl.yelpcdn.com/bphoto/q2emK6...      False   \n",
       "999  https://s3-media3.fl.yelpcdn.com/bphoto/5yToSE...      False   \n",
       "\n",
       "                                                   url  review_count  \\\n",
       "995  https://www.yelp.com/biz/pizzeria-hoboken-hobo...            68   \n",
       "996  https://www.yelp.com/biz/fausto-brooklyn?adjus...           214   \n",
       "997  https://www.yelp.com/biz/antonios-kitchen-east...           144   \n",
       "998  https://www.yelp.com/biz/corato-i-pizza-restau...           160   \n",
       "999  https://www.yelp.com/biz/di-fara-pizza-by-wond...             1   \n",
       "\n",
       "                                            categories  rating  \\\n",
       "995  [{'alias': 'pizza', 'title': 'Pizza'}, {'alias...     3.0   \n",
       "996  [{'alias': 'italian', 'title': 'Italian'}, {'a...     4.0   \n",
       "997  [{'alias': 'italian', 'title': 'Italian'}, {'a...     3.5   \n",
       "998             [{'alias': 'pizza', 'title': 'Pizza'}]     2.5   \n",
       "999             [{'alias': 'pizza', 'title': 'Pizza'}]     4.0   \n",
       "\n",
       "                                           coordinates        transactions  \\\n",
       "995  {'latitude': 40.7472306936165, 'longitude': -7...  [pickup, delivery]   \n",
       "996     {'latitude': 40.67597, 'longitude': -73.97181}          [delivery]   \n",
       "997  {'latitude': 40.7704153034747, 'longitude': -7...  [pickup, delivery]   \n",
       "998  {'latitude': 40.7058105, 'longitude': -73.8969...  [pickup, delivery]   \n",
       "999     {'latitude': 40.77671, 'longitude': -73.98184}  [pickup, delivery]   \n",
       "\n",
       "    price                                           location         phone  \\\n",
       "995     $  {'address1': '732 Jefferson St', 'address2': '...  +12016836158   \n",
       "996   $$$  {'address1': '348 Flatbush Ave', 'address2': '...  +19179091427   \n",
       "997    $$  {'address1': '76-08 21st Ave', 'address2': '',...  +17187289200   \n",
       "998     $  {'address1': '66-94 Fresh Pond Rd', 'address2'...  +17184976177   \n",
       "999   NaN  {'address1': '2030 Broadway', 'address2': None...  +18558185755   \n",
       "\n",
       "      display_phone      distance  \n",
       "995  (201) 683-6158   5811.341336  \n",
       "996  (917) 909-1427   3778.959234  \n",
       "997  (718) 728-9200  11152.520898  \n",
       "998  (718) 497-6177   8211.971924  \n",
       "999  (855) 818-5755   7996.859866  "
      ]
     },
     "metadata": {},
     "output_type": "display_data"
    }
   ],
   "source": [
    "# load final results\n",
    "final_df = pd.read_json(JSON_FILE)\n",
    "display(final_df.head(), final_df.tail())"
   ]
  },
  {
   "cell_type": "code",
   "execution_count": 25,
   "id": "cc39de47-dec3-445d-88fc-ee37f78df862",
   "metadata": {},
   "outputs": [
    {
     "data": {
      "text/plain": [
       "64"
      ]
     },
     "execution_count": 25,
     "metadata": {},
     "output_type": "execute_result"
    }
   ],
   "source": [
    "# check for duplicate ID's\n",
    "final_df.duplicated(subset='id').sum()"
   ]
  },
  {
   "cell_type": "code",
   "execution_count": 27,
   "id": "c4b42ef5-c789-4f74-96dd-fc87861dbccd",
   "metadata": {},
   "outputs": [
    {
     "data": {
      "text/plain": [
       "0"
      ]
     },
     "execution_count": 27,
     "metadata": {},
     "output_type": "execute_result"
    }
   ],
   "source": [
    "# drop duplicate ids \n",
    "final_df = final_df.drop_duplicates(subset='id')\n",
    "final_df.duplicated(subset='id').sum()"
   ]
  },
  {
   "cell_type": "code",
   "execution_count": 29,
   "id": "a6df158c-3327-4cd8-ab50-377705b86de8",
   "metadata": {},
   "outputs": [],
   "source": [
    "# save df to csv\n",
    "final_df.to_csv('Data/final_results_NY_pizza.csv.gz')"
   ]
  },
  {
   "cell_type": "code",
   "execution_count": null,
   "id": "b6ee4cbf-4f86-4698-a520-5c3e30b991b5",
   "metadata": {},
   "outputs": [],
   "source": []
  }
 ],
 "metadata": {
  "kernelspec": {
   "display_name": "Python 3 (ipykernel)",
   "language": "python",
   "name": "python3"
  },
  "language_info": {
   "codemirror_mode": {
    "name": "ipython",
    "version": 3
   },
   "file_extension": ".py",
   "mimetype": "text/x-python",
   "name": "python",
   "nbconvert_exporter": "python",
   "pygments_lexer": "ipython3",
   "version": "3.10.10"
  },
  "widgets": {
   "application/vnd.jupyter.widget-state+json": {
    "state": {
     "0442e3c222f84f0185175a76c764bde3": {
      "model_module": "@jupyter-widgets/base",
      "model_module_version": "2.0.0",
      "model_name": "LayoutModel",
      "state": {}
     },
     "078590310d7642e78af3c74f7d960c9b": {
      "model_module": "@jupyter-widgets/base",
      "model_module_version": "2.0.0",
      "model_name": "LayoutModel",
      "state": {}
     },
     "0ab6d357e9484ed889f487e17c0324b0": {
      "model_module": "@jupyter-widgets/controls",
      "model_module_version": "2.0.0",
      "model_name": "ProgressStyleModel",
      "state": {
       "description_width": ""
      }
     },
     "0ffaa752b87444eaa9973579f7e33399": {
      "model_module": "@jupyter-widgets/base",
      "model_module_version": "2.0.0",
      "model_name": "LayoutModel",
      "state": {}
     },
     "114bbacb2eb44f1b9bc7a593d02f7479": {
      "model_module": "@jupyter-widgets/controls",
      "model_module_version": "2.0.0",
      "model_name": "FloatProgressModel",
      "state": {
       "bar_style": "danger",
       "layout": "IPY_MODEL_380f0bf976484c4fa8b022327e0e0a7f",
       "max": 625,
       "style": "IPY_MODEL_0ab6d357e9484ed889f487e17c0324b0",
       "value": 49
      }
     },
     "133ffa49e16141a8a56acfcad085582f": {
      "model_module": "@jupyter-widgets/controls",
      "model_module_version": "2.0.0",
      "model_name": "FloatProgressModel",
      "state": {
       "bar_style": "success",
       "layout": "IPY_MODEL_e42289de397a4e64a8d109e6bab0b217",
       "max": 625,
       "style": "IPY_MODEL_926114b551bf4413aa3591ea63493b4c",
       "value": 625
      }
     },
     "1501abc1ac1b4088a8ce3fa6f1f68605": {
      "model_module": "@jupyter-widgets/controls",
      "model_module_version": "2.0.0",
      "model_name": "HBoxModel",
      "state": {
       "children": [
        "IPY_MODEL_874440ea3c4b451989d7ee61a45695c4",
        "IPY_MODEL_fdd004f191b046f9a44c41c7bfa850fa",
        "IPY_MODEL_b6d379d348ff4dc195336392a261a62c"
       ],
       "layout": "IPY_MODEL_30fac4433b9049169a51971962c12f1e"
      }
     },
     "1a4f0a62a8164de28d7851b7561a8c8f": {
      "model_module": "@jupyter-widgets/base",
      "model_module_version": "2.0.0",
      "model_name": "LayoutModel",
      "state": {}
     },
     "2163851a6b944ffdafd8c98d3d206791": {
      "model_module": "@jupyter-widgets/base",
      "model_module_version": "2.0.0",
      "model_name": "LayoutModel",
      "state": {}
     },
     "2d49e6e78a3247d38a6f23f7f745c7f4": {
      "model_module": "@jupyter-widgets/controls",
      "model_module_version": "2.0.0",
      "model_name": "HTMLModel",
      "state": {
       "layout": "IPY_MODEL_860a5b608778427e9900adf072f0db38",
       "style": "IPY_MODEL_dbf701f54aea41ed898ba0436847b340",
       "value": "  0%"
      }
     },
     "30fac4433b9049169a51971962c12f1e": {
      "model_module": "@jupyter-widgets/base",
      "model_module_version": "2.0.0",
      "model_name": "LayoutModel",
      "state": {}
     },
     "33372798aa0743ff816b925fa5aecbf0": {
      "model_module": "@jupyter-widgets/controls",
      "model_module_version": "2.0.0",
      "model_name": "HTMLModel",
      "state": {
       "layout": "IPY_MODEL_5ce98b334b92420e84fb21b29022c8a6",
       "style": "IPY_MODEL_7e74f336c5244f7883c41e623d7cee19",
       "value": " 625/625 [02:09&lt;00:00,  4.88it/s]"
      }
     },
     "380f0bf976484c4fa8b022327e0e0a7f": {
      "model_module": "@jupyter-widgets/base",
      "model_module_version": "2.0.0",
      "model_name": "LayoutModel",
      "state": {}
     },
     "3cb6179d9ee84628bfe27bf9a50267a8": {
      "model_module": "@jupyter-widgets/controls",
      "model_module_version": "2.0.0",
      "model_name": "HBoxModel",
      "state": {
       "children": [
        "IPY_MODEL_9635edc81f2b4fc5a46df8c25969ab10",
        "IPY_MODEL_133ffa49e16141a8a56acfcad085582f",
        "IPY_MODEL_33372798aa0743ff816b925fa5aecbf0"
       ],
       "layout": "IPY_MODEL_4ce55743484e42c68eccdf1b05785e33"
      }
     },
     "40ae5ae07dfd409ea4359b7267a563a3": {
      "model_module": "@jupyter-widgets/base",
      "model_module_version": "2.0.0",
      "model_name": "LayoutModel",
      "state": {}
     },
     "490466bc366f4b309ddcad6272f7214e": {
      "model_module": "@jupyter-widgets/controls",
      "model_module_version": "2.0.0",
      "model_name": "HTMLStyleModel",
      "state": {
       "description_width": "",
       "font_size": null,
       "text_color": null
      }
     },
     "4ce55743484e42c68eccdf1b05785e33": {
      "model_module": "@jupyter-widgets/base",
      "model_module_version": "2.0.0",
      "model_name": "LayoutModel",
      "state": {}
     },
     "4d8d651dd7b64fcb9eead35017988ef1": {
      "model_module": "@jupyter-widgets/controls",
      "model_module_version": "2.0.0",
      "model_name": "HBoxModel",
      "state": {
       "children": [
        "IPY_MODEL_2d49e6e78a3247d38a6f23f7f745c7f4",
        "IPY_MODEL_b715deb6ae0c40f7afe514e3c0b381e7",
        "IPY_MODEL_8d963ae40db14e1cac41e6f0b21761ee"
       ],
       "layout": "IPY_MODEL_c315d429373543348b17e19072a19f8a"
      }
     },
     "5ce98b334b92420e84fb21b29022c8a6": {
      "model_module": "@jupyter-widgets/base",
      "model_module_version": "2.0.0",
      "model_name": "LayoutModel",
      "state": {}
     },
     "7e74f336c5244f7883c41e623d7cee19": {
      "model_module": "@jupyter-widgets/controls",
      "model_module_version": "2.0.0",
      "model_name": "HTMLStyleModel",
      "state": {
       "description_width": "",
       "font_size": null,
       "text_color": null
      }
     },
     "811d2eaea0a24afea4f0ed461cef66f2": {
      "model_module": "@jupyter-widgets/base",
      "model_module_version": "2.0.0",
      "model_name": "LayoutModel",
      "state": {}
     },
     "819c6eec96594382b7031dbb66393528": {
      "model_module": "@jupyter-widgets/controls",
      "model_module_version": "2.0.0",
      "model_name": "ProgressStyleModel",
      "state": {
       "description_width": ""
      }
     },
     "860a5b608778427e9900adf072f0db38": {
      "model_module": "@jupyter-widgets/base",
      "model_module_version": "2.0.0",
      "model_name": "LayoutModel",
      "state": {}
     },
     "874440ea3c4b451989d7ee61a45695c4": {
      "model_module": "@jupyter-widgets/controls",
      "model_module_version": "2.0.0",
      "model_name": "HTMLModel",
      "state": {
       "layout": "IPY_MODEL_811d2eaea0a24afea4f0ed461cef66f2",
       "style": "IPY_MODEL_490466bc366f4b309ddcad6272f7214e",
       "value": "  0%"
      }
     },
     "889869b1d46040d3b54541dfd2bffbbb": {
      "model_module": "@jupyter-widgets/controls",
      "model_module_version": "2.0.0",
      "model_name": "ProgressStyleModel",
      "state": {
       "description_width": ""
      }
     },
     "8d963ae40db14e1cac41e6f0b21761ee": {
      "model_module": "@jupyter-widgets/controls",
      "model_module_version": "2.0.0",
      "model_name": "HTMLModel",
      "state": {
       "layout": "IPY_MODEL_2163851a6b944ffdafd8c98d3d206791",
       "style": "IPY_MODEL_cc377b0917094f2d99f856046c1f7694",
       "value": " 0/625 [00:01&lt;?, ?it/s]"
      }
     },
     "926114b551bf4413aa3591ea63493b4c": {
      "model_module": "@jupyter-widgets/controls",
      "model_module_version": "2.0.0",
      "model_name": "ProgressStyleModel",
      "state": {
       "description_width": ""
      }
     },
     "9635edc81f2b4fc5a46df8c25969ab10": {
      "model_module": "@jupyter-widgets/controls",
      "model_module_version": "2.0.0",
      "model_name": "HTMLModel",
      "state": {
       "layout": "IPY_MODEL_1a4f0a62a8164de28d7851b7561a8c8f",
       "style": "IPY_MODEL_da0c6c0577194fea8f1ffa7d182020de",
       "value": "100%"
      }
     },
     "9789eede8fcf4c3591e8af32c0b07bdc": {
      "model_module": "@jupyter-widgets/base",
      "model_module_version": "2.0.0",
      "model_name": "LayoutModel",
      "state": {}
     },
     "9bc8ada40f2d4adfbd82fa266261c241": {
      "model_module": "@jupyter-widgets/controls",
      "model_module_version": "2.0.0",
      "model_name": "HTMLModel",
      "state": {
       "layout": "IPY_MODEL_0ffaa752b87444eaa9973579f7e33399",
       "style": "IPY_MODEL_c4ea03f1ebaa47e9b10389872fd858ef",
       "value": "  8%"
      }
     },
     "a2862163d7d646b388b58e54918b4334": {
      "model_module": "@jupyter-widgets/base",
      "model_module_version": "2.0.0",
      "model_name": "LayoutModel",
      "state": {}
     },
     "a323ef39c2694ca3866e47f34ba08d2e": {
      "model_module": "@jupyter-widgets/controls",
      "model_module_version": "2.0.0",
      "model_name": "HBoxModel",
      "state": {
       "children": [
        "IPY_MODEL_9bc8ada40f2d4adfbd82fa266261c241",
        "IPY_MODEL_114bbacb2eb44f1b9bc7a593d02f7479",
        "IPY_MODEL_c2c2a9915a55456aae66dd65cfaed9c2"
       ],
       "layout": "IPY_MODEL_078590310d7642e78af3c74f7d960c9b"
      }
     },
     "b6d379d348ff4dc195336392a261a62c": {
      "model_module": "@jupyter-widgets/controls",
      "model_module_version": "2.0.0",
      "model_name": "HTMLModel",
      "state": {
       "layout": "IPY_MODEL_9789eede8fcf4c3591e8af32c0b07bdc",
       "style": "IPY_MODEL_d8b70cd73f5d4abc81f86888bcbe42f8",
       "value": " 0/625 [00:00&lt;?, ?it/s]"
      }
     },
     "b715deb6ae0c40f7afe514e3c0b381e7": {
      "model_module": "@jupyter-widgets/controls",
      "model_module_version": "2.0.0",
      "model_name": "FloatProgressModel",
      "state": {
       "bar_style": "danger",
       "layout": "IPY_MODEL_40ae5ae07dfd409ea4359b7267a563a3",
       "max": 625,
       "style": "IPY_MODEL_819c6eec96594382b7031dbb66393528"
      }
     },
     "be0d39f92c994ee1ab29e27a70aab895": {
      "model_module": "@jupyter-widgets/controls",
      "model_module_version": "2.0.0",
      "model_name": "HTMLStyleModel",
      "state": {
       "description_width": "",
       "font_size": null,
       "text_color": null
      }
     },
     "c2c2a9915a55456aae66dd65cfaed9c2": {
      "model_module": "@jupyter-widgets/controls",
      "model_module_version": "2.0.0",
      "model_name": "HTMLModel",
      "state": {
       "layout": "IPY_MODEL_a2862163d7d646b388b58e54918b4334",
       "style": "IPY_MODEL_be0d39f92c994ee1ab29e27a70aab895",
       "value": " 49/625 [01:21&lt;21:00,  2.19s/it]"
      }
     },
     "c315d429373543348b17e19072a19f8a": {
      "model_module": "@jupyter-widgets/base",
      "model_module_version": "2.0.0",
      "model_name": "LayoutModel",
      "state": {}
     },
     "c4ea03f1ebaa47e9b10389872fd858ef": {
      "model_module": "@jupyter-widgets/controls",
      "model_module_version": "2.0.0",
      "model_name": "HTMLStyleModel",
      "state": {
       "description_width": "",
       "font_size": null,
       "text_color": null
      }
     },
     "cc377b0917094f2d99f856046c1f7694": {
      "model_module": "@jupyter-widgets/controls",
      "model_module_version": "2.0.0",
      "model_name": "HTMLStyleModel",
      "state": {
       "description_width": "",
       "font_size": null,
       "text_color": null
      }
     },
     "d8b70cd73f5d4abc81f86888bcbe42f8": {
      "model_module": "@jupyter-widgets/controls",
      "model_module_version": "2.0.0",
      "model_name": "HTMLStyleModel",
      "state": {
       "description_width": "",
       "font_size": null,
       "text_color": null
      }
     },
     "da0c6c0577194fea8f1ffa7d182020de": {
      "model_module": "@jupyter-widgets/controls",
      "model_module_version": "2.0.0",
      "model_name": "HTMLStyleModel",
      "state": {
       "description_width": "",
       "font_size": null,
       "text_color": null
      }
     },
     "dbf701f54aea41ed898ba0436847b340": {
      "model_module": "@jupyter-widgets/controls",
      "model_module_version": "2.0.0",
      "model_name": "HTMLStyleModel",
      "state": {
       "description_width": "",
       "font_size": null,
       "text_color": null
      }
     },
     "e42289de397a4e64a8d109e6bab0b217": {
      "model_module": "@jupyter-widgets/base",
      "model_module_version": "2.0.0",
      "model_name": "LayoutModel",
      "state": {}
     },
     "fdd004f191b046f9a44c41c7bfa850fa": {
      "model_module": "@jupyter-widgets/controls",
      "model_module_version": "2.0.0",
      "model_name": "FloatProgressModel",
      "state": {
       "bar_style": "danger",
       "layout": "IPY_MODEL_0442e3c222f84f0185175a76c764bde3",
       "max": 625,
       "style": "IPY_MODEL_889869b1d46040d3b54541dfd2bffbbb"
      }
     }
    },
    "version_major": 2,
    "version_minor": 0
   }
  }
 },
 "nbformat": 4,
 "nbformat_minor": 5
}

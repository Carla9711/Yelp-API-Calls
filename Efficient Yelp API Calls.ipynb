{
 "cells": [
  {
   "cell_type": "code",
   "execution_count": 17,
   "id": "85cd5689-ed37-48e5-a513-a38d7d0131a8",
   "metadata": {},
   "outputs": [],
   "source": [
    "# library imports\n",
    "import numpy as np\n",
    "import pandas as pd\n",
    "import matplotlib.pyplot as plt\n",
    "import seaborn as sns\n",
    "\n",
    "import os, json, math, time\n",
    "from yelpapi import YelpAPI\n",
    "from tqdm.notebook import tqdm_notebook"
   ]
  },
  {
   "cell_type": "markdown",
   "id": "9caf0b9a-6d8c-43d0-aa90-d8125581f5de",
   "metadata": {},
   "source": [
    "The code in this notebook was adapted from the following coding dojo lecture:\n",
    "* [Code for efficient API Extraction](https://login.codingdojo.com/m/720/16250/120407)\n"
   ]
  },
  {
   "cell_type": "code",
   "execution_count": 18,
   "id": "631e87df-f503-427d-91a0-50f17b5b9411",
   "metadata": {},
   "outputs": [],
   "source": [
    "# load API Credentials\n",
    "with open('/Users/x471074/.secret/yelp_api.json') as f:\n",
    "    login = json.load(f)\n",
    "\n",
    "# isnstantiate YelpAPI Variable\n",
    "yelp_api = YelpAPI(login['api-key'], timeout_s=5.0)"
   ]
  },
  {
   "cell_type": "code",
   "execution_count": 19,
   "id": "4a9753ac-88ab-4da5-8fc8-1185ec51fe8a",
   "metadata": {},
   "outputs": [],
   "source": [
    "# define search\n",
    "LOCATION = 'Los Angeles, California'\n",
    "TERM = 'Starbucks'"
   ]
  },
  {
   "cell_type": "code",
   "execution_count": 20,
   "id": "7c613656-e966-4e1d-9b29-446bb22e5291",
   "metadata": {},
   "outputs": [
    {
     "data": {
      "text/plain": [
       "'Data/results_in_progress_LA_startbucks.json'"
      ]
     },
     "execution_count": 20,
     "metadata": {},
     "output_type": "execute_result"
    }
   ],
   "source": [
    "# create a results in progress JSON file\n",
    "# include search terms in filename\n",
    "JSON_FILE = \"Data/results_in_progress_LA_startbucks.json\"\n",
    "JSON_FILE"
   ]
  },
  {
   "cell_type": "code",
   "execution_count": 21,
   "id": "75b5c636-1bf9-45db-8ddf-cf9c2ebd7a0c",
   "metadata": {},
   "outputs": [
    {
     "name": "stdout",
     "output_type": "stream",
     "text": [
      "[i] Data/results_in_progress_LA_startbucks.json already exists\n"
     ]
    }
   ],
   "source": [
    "# Check if JSON file exists\n",
    "# If it doesn't exists create any folders needed and save empty list as JSON_FILE\n",
    "\n",
    "# check if file exists\n",
    "file_exists = os.path.isfile(JSON_FILE)\n",
    "# if it does not exist\n",
    "if file_exists == False:\n",
    "\n",
    "    # create needed folder\n",
    "    folder = os.path.dirname(JSON_FILE)\n",
    "\n",
    "    # if JSON_FILE included a folder\n",
    "    if len(folder)>0:\n",
    "        # create the folder\n",
    "        os.makedirs(folder,exist_ok=True)\n",
    "\n",
    "    # inform user and save empty list\n",
    "    print(f'[i] {JSON_FILE} not found. Saving empty list to file.')\n",
    "\n",
    "    with open(JSON_FILE,'w') as f:\n",
    "        json.dump([],f)\n",
    "\n",
    "else:\n",
    "    print(f\"[i] {JSON_FILE} already exists\")"
   ]
  },
  {
   "cell_type": "code",
   "execution_count": 22,
   "id": "25aef79c-7d8d-4298-be64-3eaf175b9438",
   "metadata": {},
   "outputs": [
    {
     "name": "stdout",
     "output_type": "stream",
     "text": [
      "- 0 previous results found\n"
     ]
    }
   ],
   "source": [
    "# Load previous results and use len of results for offset\n",
    "with open(JSON_FILE, 'r') as f:\n",
    "    previous_results = json.load(f)\n",
    "\n",
    "n_results = len(previous_results)\n",
    "print(f'- {n_results} previous results found')\n"
   ]
  },
  {
   "cell_type": "code",
   "execution_count": 23,
   "id": "7d62678e-3823-4c1b-85d4-ebcd692ee0ea",
   "metadata": {},
   "outputs": [
    {
     "data": {
      "text/plain": [
       "dict_keys(['businesses', 'total', 'region'])"
      ]
     },
     "execution_count": 23,
     "metadata": {},
     "output_type": "execute_result"
    }
   ],
   "source": [
    "# use search query to perform API calls\n",
    "\n",
    "results = yelp_api.search_query(location=LOCATION,\n",
    "                                term=TERM,\n",
    "                                offset=n_results)\n",
    "\n",
    "results.keys()"
   ]
  },
  {
   "cell_type": "code",
   "execution_count": 24,
   "id": "a2c83741-9305-4ebd-b7c2-93860356ed7f",
   "metadata": {},
   "outputs": [
    {
     "data": {
      "text/plain": [
       "6200"
      ]
     },
     "execution_count": 24,
     "metadata": {},
     "output_type": "execute_result"
    }
   ],
   "source": [
    "# total results available\n",
    "total_results = results['total']\n",
    "total_results"
   ]
  },
  {
   "cell_type": "code",
   "execution_count": 25,
   "id": "a3dd8a28-73e5-43a9-a525-ee103d33bab9",
   "metadata": {},
   "outputs": [
    {
     "data": {
      "text/plain": [
       "20"
      ]
     },
     "execution_count": 25,
     "metadata": {},
     "output_type": "execute_result"
    }
   ],
   "source": [
    "# how many results did we retrieve\n",
    "results_per_page = len(results['businesses'])\n",
    "results_per_page"
   ]
  },
  {
   "cell_type": "code",
   "execution_count": 26,
   "id": "d3aead79-7899-4ed4-895f-0184fd7e2f23",
   "metadata": {},
   "outputs": [
    {
     "data": {
      "text/plain": [
       "310"
      ]
     },
     "execution_count": 26,
     "metadata": {},
     "output_type": "execute_result"
    }
   ],
   "source": [
    "import time, math\n",
    "\n",
    "# use math.ceil to round up for the total number of pages of results\n",
    "n_pages = math.ceil((results['total']-n_results)/ results_per_page)\n",
    "n_pages"
   ]
  },
  {
   "cell_type": "code",
   "execution_count": 27,
   "id": "c016bcc3-ffd5-4047-b810-29db28966b4f",
   "metadata": {},
   "outputs": [],
   "source": [
    "# join new result with previous list and save\n",
    "previous_results.extend(results['businesses'])\n",
    "with open(JSON_FILE, 'w') as f:\n",
    "    json.dump(previous_results,f)"
   ]
  },
  {
   "cell_type": "code",
   "execution_count": 28,
   "id": "1be45423-7c2e-43ed-85fd-f37d0759198e",
   "metadata": {},
   "outputs": [
    {
     "data": {
      "application/vnd.jupyter.widget-view+json": {
       "model_id": "6f648812ed9b44c2bfd6f12808c5e0bd",
       "version_major": 2,
       "version_minor": 0
      },
      "text/plain": [
       "  0%|          | 0/310 [00:00<?, ?it/s]"
      ]
     },
     "metadata": {},
     "output_type": "display_data"
    },
    {
     "name": "stdout",
     "output_type": "stream",
     "text": [
      "Exceeded 1000 api calls. Stopping loop.\n"
     ]
    }
   ],
   "source": [
    "for i in tqdm_notebook(range(1, n_pages+1)):\n",
    "\n",
    "    # read in results in progress file and check length\n",
    "    with open(JSON_FILE, 'r') as f:\n",
    "        previous_results = json.load(f)\n",
    "\n",
    "    # save number of results to use as offset\n",
    "    n_results = len(previous_results)\n",
    "\n",
    "    if (n_results + results_per_page) > 1000:\n",
    "        print('Exceeded 1000 api calls. Stopping loop.')\n",
    "        break\n",
    "\n",
    "    # use n_results as offset\n",
    "    results = yelp_api.search_query(location=LOCATION,\n",
    "                                   term=TERM,\n",
    "                                   offset=n_results)\n",
    "\n",
    "    # append new results and save to file\n",
    "    previous_results.extend(results['businesses'])\n",
    "\n",
    "    with open(JSON_FILE, 'w') as f:\n",
    "        json.dump(previous_results,f)\n",
    "\n",
    "    time.sleep(0.2)"
   ]
  },
  {
   "cell_type": "code",
   "execution_count": 29,
   "id": "37ffc542-af3f-4eca-9ca5-753a36dbcff3",
   "metadata": {},
   "outputs": [
    {
     "data": {
      "text/html": [
       "<div>\n",
       "<style scoped>\n",
       "    .dataframe tbody tr th:only-of-type {\n",
       "        vertical-align: middle;\n",
       "    }\n",
       "\n",
       "    .dataframe tbody tr th {\n",
       "        vertical-align: top;\n",
       "    }\n",
       "\n",
       "    .dataframe thead th {\n",
       "        text-align: right;\n",
       "    }\n",
       "</style>\n",
       "<table border=\"1\" class=\"dataframe\">\n",
       "  <thead>\n",
       "    <tr style=\"text-align: right;\">\n",
       "      <th></th>\n",
       "      <th>id</th>\n",
       "      <th>alias</th>\n",
       "      <th>name</th>\n",
       "      <th>image_url</th>\n",
       "      <th>is_closed</th>\n",
       "      <th>url</th>\n",
       "      <th>review_count</th>\n",
       "      <th>categories</th>\n",
       "      <th>rating</th>\n",
       "      <th>coordinates</th>\n",
       "      <th>transactions</th>\n",
       "      <th>location</th>\n",
       "      <th>phone</th>\n",
       "      <th>display_phone</th>\n",
       "      <th>distance</th>\n",
       "      <th>price</th>\n",
       "    </tr>\n",
       "  </thead>\n",
       "  <tbody>\n",
       "    <tr>\n",
       "      <th>0</th>\n",
       "      <td>meb8dLzgvra_sQvHVJrD9w</td>\n",
       "      <td>starbucks-los-angeles-592</td>\n",
       "      <td>Starbucks</td>\n",
       "      <td>https://s3-media1.fl.yelpcdn.com/bphoto/2u79Jy...</td>\n",
       "      <td>False</td>\n",
       "      <td>https://www.yelp.com/biz/starbucks-los-angeles...</td>\n",
       "      <td>9</td>\n",
       "      <td>[{'alias': 'coffee', 'title': 'Coffee &amp; Tea'}]</td>\n",
       "      <td>4.5</td>\n",
       "      <td>{'latitude': 34.06192333, 'longitude': -118.30...</td>\n",
       "      <td>[]</td>\n",
       "      <td>{'address1': '3785 Wilshire Blvd', 'address2':...</td>\n",
       "      <td>+12137230211</td>\n",
       "      <td>(213) 723-0211</td>\n",
       "      <td>1179.227512</td>\n",
       "      <td>NaN</td>\n",
       "    </tr>\n",
       "    <tr>\n",
       "      <th>1</th>\n",
       "      <td>P2QwKVViQcZQJzav2KBhPQ</td>\n",
       "      <td>starbucks-los-angeles-551</td>\n",
       "      <td>Starbucks</td>\n",
       "      <td>https://s3-media3.fl.yelpcdn.com/bphoto/KLS-G2...</td>\n",
       "      <td>False</td>\n",
       "      <td>https://www.yelp.com/biz/starbucks-los-angeles...</td>\n",
       "      <td>4</td>\n",
       "      <td>[{'alias': 'coffee', 'title': 'Coffee &amp; Tea'}]</td>\n",
       "      <td>2.0</td>\n",
       "      <td>{'latitude': 34.0600267, 'longitude': -118.308...</td>\n",
       "      <td>[]</td>\n",
       "      <td>{'address1': '670 S Western Ave', 'address2': ...</td>\n",
       "      <td>+12133835058</td>\n",
       "      <td>(213) 383-5058</td>\n",
       "      <td>1200.989396</td>\n",
       "      <td>NaN</td>\n",
       "    </tr>\n",
       "    <tr>\n",
       "      <th>2</th>\n",
       "      <td>tE76daU5hUPb8cwQzSZwqQ</td>\n",
       "      <td>starbucks-los-angeles-110</td>\n",
       "      <td>Starbucks</td>\n",
       "      <td>https://s3-media1.fl.yelpcdn.com/bphoto/UUtVl3...</td>\n",
       "      <td>False</td>\n",
       "      <td>https://www.yelp.com/biz/starbucks-los-angeles...</td>\n",
       "      <td>165</td>\n",
       "      <td>[{'alias': 'coffee', 'title': 'Coffee &amp; Tea'}]</td>\n",
       "      <td>3.0</td>\n",
       "      <td>{'latitude': 34.061461, 'longitude': -118.3063...</td>\n",
       "      <td>[delivery]</td>\n",
       "      <td>{'address1': '3680 Wilshire Blvd', 'address2':...</td>\n",
       "      <td>+12133835370</td>\n",
       "      <td>(213) 383-5370</td>\n",
       "      <td>1383.518137</td>\n",
       "      <td>$</td>\n",
       "    </tr>\n",
       "    <tr>\n",
       "      <th>3</th>\n",
       "      <td>2YDeRPINipVdFZm2lgavEA</td>\n",
       "      <td>starbucks-los-angeles-93</td>\n",
       "      <td>Starbucks</td>\n",
       "      <td>https://s3-media3.fl.yelpcdn.com/bphoto/7f-NyF...</td>\n",
       "      <td>False</td>\n",
       "      <td>https://www.yelp.com/biz/starbucks-los-angeles...</td>\n",
       "      <td>96</td>\n",
       "      <td>[{'alias': 'coffee', 'title': 'Coffee &amp; Tea'}]</td>\n",
       "      <td>3.0</td>\n",
       "      <td>{'latitude': 34.07494333, 'longitude': -118.32...</td>\n",
       "      <td>[delivery]</td>\n",
       "      <td>{'address1': '206 N Larchmont Blvd', 'address2...</td>\n",
       "      <td>+13234691081</td>\n",
       "      <td>(323) 469-1081</td>\n",
       "      <td>1496.834045</td>\n",
       "      <td>$</td>\n",
       "    </tr>\n",
       "    <tr>\n",
       "      <th>4</th>\n",
       "      <td>fn0d4TtMb1AaSOoNdNoYzQ</td>\n",
       "      <td>starbucks-los-angeles-142</td>\n",
       "      <td>Starbucks</td>\n",
       "      <td>https://s3-media1.fl.yelpcdn.com/bphoto/2GQf5d...</td>\n",
       "      <td>False</td>\n",
       "      <td>https://www.yelp.com/biz/starbucks-los-angeles...</td>\n",
       "      <td>117</td>\n",
       "      <td>[{'alias': 'coffee', 'title': 'Coffee &amp; Tea'}]</td>\n",
       "      <td>3.5</td>\n",
       "      <td>{'latitude': 34.0619085, 'longitude': -118.338...</td>\n",
       "      <td>[delivery]</td>\n",
       "      <td>{'address1': '5020 Wilshire Blvd', 'address2':...</td>\n",
       "      <td>+13239362989</td>\n",
       "      <td>(323) 936-2989</td>\n",
       "      <td>1615.983222</td>\n",
       "      <td>$</td>\n",
       "    </tr>\n",
       "  </tbody>\n",
       "</table>\n",
       "</div>"
      ],
      "text/plain": [
       "                       id                      alias       name  \\\n",
       "0  meb8dLzgvra_sQvHVJrD9w  starbucks-los-angeles-592  Starbucks   \n",
       "1  P2QwKVViQcZQJzav2KBhPQ  starbucks-los-angeles-551  Starbucks   \n",
       "2  tE76daU5hUPb8cwQzSZwqQ  starbucks-los-angeles-110  Starbucks   \n",
       "3  2YDeRPINipVdFZm2lgavEA   starbucks-los-angeles-93  Starbucks   \n",
       "4  fn0d4TtMb1AaSOoNdNoYzQ  starbucks-los-angeles-142  Starbucks   \n",
       "\n",
       "                                           image_url  is_closed  \\\n",
       "0  https://s3-media1.fl.yelpcdn.com/bphoto/2u79Jy...      False   \n",
       "1  https://s3-media3.fl.yelpcdn.com/bphoto/KLS-G2...      False   \n",
       "2  https://s3-media1.fl.yelpcdn.com/bphoto/UUtVl3...      False   \n",
       "3  https://s3-media3.fl.yelpcdn.com/bphoto/7f-NyF...      False   \n",
       "4  https://s3-media1.fl.yelpcdn.com/bphoto/2GQf5d...      False   \n",
       "\n",
       "                                                 url  review_count  \\\n",
       "0  https://www.yelp.com/biz/starbucks-los-angeles...             9   \n",
       "1  https://www.yelp.com/biz/starbucks-los-angeles...             4   \n",
       "2  https://www.yelp.com/biz/starbucks-los-angeles...           165   \n",
       "3  https://www.yelp.com/biz/starbucks-los-angeles...            96   \n",
       "4  https://www.yelp.com/biz/starbucks-los-angeles...           117   \n",
       "\n",
       "                                       categories  rating  \\\n",
       "0  [{'alias': 'coffee', 'title': 'Coffee & Tea'}]     4.5   \n",
       "1  [{'alias': 'coffee', 'title': 'Coffee & Tea'}]     2.0   \n",
       "2  [{'alias': 'coffee', 'title': 'Coffee & Tea'}]     3.0   \n",
       "3  [{'alias': 'coffee', 'title': 'Coffee & Tea'}]     3.0   \n",
       "4  [{'alias': 'coffee', 'title': 'Coffee & Tea'}]     3.5   \n",
       "\n",
       "                                         coordinates transactions  \\\n",
       "0  {'latitude': 34.06192333, 'longitude': -118.30...           []   \n",
       "1  {'latitude': 34.0600267, 'longitude': -118.308...           []   \n",
       "2  {'latitude': 34.061461, 'longitude': -118.3063...   [delivery]   \n",
       "3  {'latitude': 34.07494333, 'longitude': -118.32...   [delivery]   \n",
       "4  {'latitude': 34.0619085, 'longitude': -118.338...   [delivery]   \n",
       "\n",
       "                                            location         phone  \\\n",
       "0  {'address1': '3785 Wilshire Blvd', 'address2':...  +12137230211   \n",
       "1  {'address1': '670 S Western Ave', 'address2': ...  +12133835058   \n",
       "2  {'address1': '3680 Wilshire Blvd', 'address2':...  +12133835370   \n",
       "3  {'address1': '206 N Larchmont Blvd', 'address2...  +13234691081   \n",
       "4  {'address1': '5020 Wilshire Blvd', 'address2':...  +13239362989   \n",
       "\n",
       "    display_phone     distance price  \n",
       "0  (213) 723-0211  1179.227512   NaN  \n",
       "1  (213) 383-5058  1200.989396   NaN  \n",
       "2  (213) 383-5370  1383.518137     $  \n",
       "3  (323) 469-1081  1496.834045     $  \n",
       "4  (323) 936-2989  1615.983222     $  "
      ]
     },
     "metadata": {},
     "output_type": "display_data"
    },
    {
     "data": {
      "text/html": [
       "<div>\n",
       "<style scoped>\n",
       "    .dataframe tbody tr th:only-of-type {\n",
       "        vertical-align: middle;\n",
       "    }\n",
       "\n",
       "    .dataframe tbody tr th {\n",
       "        vertical-align: top;\n",
       "    }\n",
       "\n",
       "    .dataframe thead th {\n",
       "        text-align: right;\n",
       "    }\n",
       "</style>\n",
       "<table border=\"1\" class=\"dataframe\">\n",
       "  <thead>\n",
       "    <tr style=\"text-align: right;\">\n",
       "      <th></th>\n",
       "      <th>id</th>\n",
       "      <th>alias</th>\n",
       "      <th>name</th>\n",
       "      <th>image_url</th>\n",
       "      <th>is_closed</th>\n",
       "      <th>url</th>\n",
       "      <th>review_count</th>\n",
       "      <th>categories</th>\n",
       "      <th>rating</th>\n",
       "      <th>coordinates</th>\n",
       "      <th>transactions</th>\n",
       "      <th>location</th>\n",
       "      <th>phone</th>\n",
       "      <th>display_phone</th>\n",
       "      <th>distance</th>\n",
       "      <th>price</th>\n",
       "    </tr>\n",
       "  </thead>\n",
       "  <tbody>\n",
       "    <tr>\n",
       "      <th>995</th>\n",
       "      <td>KwgwcP8GTyOwphwifasV-w</td>\n",
       "      <td>paris-baguette-los-angeles</td>\n",
       "      <td>Paris Baguette</td>\n",
       "      <td>https://s3-media3.fl.yelpcdn.com/bphoto/9p4iQT...</td>\n",
       "      <td>False</td>\n",
       "      <td>https://www.yelp.com/biz/paris-baguette-los-an...</td>\n",
       "      <td>419</td>\n",
       "      <td>[{'alias': 'bakeries', 'title': 'Bakeries'}, {...</td>\n",
       "      <td>4.0</td>\n",
       "      <td>{'latitude': 34.0738166208763, 'longitude': -1...</td>\n",
       "      <td>[delivery]</td>\n",
       "      <td>{'address1': '125 N Western Ave', 'address2': ...</td>\n",
       "      <td>+13234670404</td>\n",
       "      <td>(323) 467-0404</td>\n",
       "      <td>1756.623296</td>\n",
       "      <td>$</td>\n",
       "    </tr>\n",
       "    <tr>\n",
       "      <th>996</th>\n",
       "      <td>7zS_o_W3kuK51evHYodI7w</td>\n",
       "      <td>kaldi-coffee-and-tea-south-pasadena</td>\n",
       "      <td>Kaldi Coffee and Tea</td>\n",
       "      <td>https://s3-media1.fl.yelpcdn.com/bphoto/YJbLPC...</td>\n",
       "      <td>False</td>\n",
       "      <td>https://www.yelp.com/biz/kaldi-coffee-and-tea-...</td>\n",
       "      <td>328</td>\n",
       "      <td>[{'alias': 'coffee', 'title': 'Coffee &amp; Tea'}]</td>\n",
       "      <td>3.5</td>\n",
       "      <td>{'latitude': 34.1145751, 'longitude': -118.156...</td>\n",
       "      <td>[delivery]</td>\n",
       "      <td>{'address1': '1019 El Centro St', 'address2': ...</td>\n",
       "      <td>+16264035951</td>\n",
       "      <td>(626) 403-5951</td>\n",
       "      <td>16289.473549</td>\n",
       "      <td>$$</td>\n",
       "    </tr>\n",
       "    <tr>\n",
       "      <th>997</th>\n",
       "      <td>SucE_RVNy40uYskr2WS-eg</td>\n",
       "      <td>thank-you-coffee-los-angeles</td>\n",
       "      <td>Thank You Coffee</td>\n",
       "      <td>https://s3-media3.fl.yelpcdn.com/bphoto/a7QKpL...</td>\n",
       "      <td>False</td>\n",
       "      <td>https://www.yelp.com/biz/thank-you-coffee-los-...</td>\n",
       "      <td>158</td>\n",
       "      <td>[{'alias': 'coffee', 'title': 'Coffee &amp; Tea'}]</td>\n",
       "      <td>4.5</td>\n",
       "      <td>{'latitude': 34.06525, 'longitude': -118.23814}</td>\n",
       "      <td>[]</td>\n",
       "      <td>{'address1': '938 N Hill St', 'address2': None...</td>\n",
       "      <td>+12139887069</td>\n",
       "      <td>(213) 988-7069</td>\n",
       "      <td>7677.630182</td>\n",
       "      <td>$$</td>\n",
       "    </tr>\n",
       "    <tr>\n",
       "      <th>998</th>\n",
       "      <td>rNU2WmPx_4ImwFxAB5kLwA</td>\n",
       "      <td>bon-bon-tea-house-los-angeles-6</td>\n",
       "      <td>Bon Bon Tea House</td>\n",
       "      <td>https://s3-media4.fl.yelpcdn.com/bphoto/n9pc7M...</td>\n",
       "      <td>False</td>\n",
       "      <td>https://www.yelp.com/biz/bon-bon-tea-house-los...</td>\n",
       "      <td>2013</td>\n",
       "      <td>[{'alias': 'coffee', 'title': 'Coffee &amp; Tea'},...</td>\n",
       "      <td>4.5</td>\n",
       "      <td>{'latitude': 34.246055206289, 'longitude': -11...</td>\n",
       "      <td>[delivery]</td>\n",
       "      <td>{'address1': '9663 Reseda Blvd', 'address2': N...</td>\n",
       "      <td>+18182806677</td>\n",
       "      <td>(818) 280-6677</td>\n",
       "      <td>28534.166120</td>\n",
       "      <td>$$</td>\n",
       "    </tr>\n",
       "    <tr>\n",
       "      <th>999</th>\n",
       "      <td>sfyk-cjBO94SoPsN5_d3wQ</td>\n",
       "      <td>la-terraza-café-los-angeles-2</td>\n",
       "      <td>La Terraza Café</td>\n",
       "      <td>https://s3-media2.fl.yelpcdn.com/bphoto/wQ10v6...</td>\n",
       "      <td>False</td>\n",
       "      <td>https://www.yelp.com/biz/la-terraza-caf%C3%A9-...</td>\n",
       "      <td>318</td>\n",
       "      <td>[{'alias': 'cafes', 'title': 'Cafes'}, {'alias...</td>\n",
       "      <td>4.5</td>\n",
       "      <td>{'latitude': 34.0558406, 'longitude': -118.178...</td>\n",
       "      <td>[pickup, delivery]</td>\n",
       "      <td>{'address1': '4017 City Terrace Dr', 'address2...</td>\n",
       "      <td>+13236858033</td>\n",
       "      <td>(323) 685-8033</td>\n",
       "      <td>13198.359739</td>\n",
       "      <td>$$</td>\n",
       "    </tr>\n",
       "  </tbody>\n",
       "</table>\n",
       "</div>"
      ],
      "text/plain": [
       "                         id                                alias  \\\n",
       "995  KwgwcP8GTyOwphwifasV-w           paris-baguette-los-angeles   \n",
       "996  7zS_o_W3kuK51evHYodI7w  kaldi-coffee-and-tea-south-pasadena   \n",
       "997  SucE_RVNy40uYskr2WS-eg         thank-you-coffee-los-angeles   \n",
       "998  rNU2WmPx_4ImwFxAB5kLwA      bon-bon-tea-house-los-angeles-6   \n",
       "999  sfyk-cjBO94SoPsN5_d3wQ        la-terraza-café-los-angeles-2   \n",
       "\n",
       "                     name                                          image_url  \\\n",
       "995        Paris Baguette  https://s3-media3.fl.yelpcdn.com/bphoto/9p4iQT...   \n",
       "996  Kaldi Coffee and Tea  https://s3-media1.fl.yelpcdn.com/bphoto/YJbLPC...   \n",
       "997      Thank You Coffee  https://s3-media3.fl.yelpcdn.com/bphoto/a7QKpL...   \n",
       "998     Bon Bon Tea House  https://s3-media4.fl.yelpcdn.com/bphoto/n9pc7M...   \n",
       "999       La Terraza Café  https://s3-media2.fl.yelpcdn.com/bphoto/wQ10v6...   \n",
       "\n",
       "     is_closed                                                url  \\\n",
       "995      False  https://www.yelp.com/biz/paris-baguette-los-an...   \n",
       "996      False  https://www.yelp.com/biz/kaldi-coffee-and-tea-...   \n",
       "997      False  https://www.yelp.com/biz/thank-you-coffee-los-...   \n",
       "998      False  https://www.yelp.com/biz/bon-bon-tea-house-los...   \n",
       "999      False  https://www.yelp.com/biz/la-terraza-caf%C3%A9-...   \n",
       "\n",
       "     review_count                                         categories  rating  \\\n",
       "995           419  [{'alias': 'bakeries', 'title': 'Bakeries'}, {...     4.0   \n",
       "996           328     [{'alias': 'coffee', 'title': 'Coffee & Tea'}]     3.5   \n",
       "997           158     [{'alias': 'coffee', 'title': 'Coffee & Tea'}]     4.5   \n",
       "998          2013  [{'alias': 'coffee', 'title': 'Coffee & Tea'},...     4.5   \n",
       "999           318  [{'alias': 'cafes', 'title': 'Cafes'}, {'alias...     4.5   \n",
       "\n",
       "                                           coordinates        transactions  \\\n",
       "995  {'latitude': 34.0738166208763, 'longitude': -1...          [delivery]   \n",
       "996  {'latitude': 34.1145751, 'longitude': -118.156...          [delivery]   \n",
       "997    {'latitude': 34.06525, 'longitude': -118.23814}                  []   \n",
       "998  {'latitude': 34.246055206289, 'longitude': -11...          [delivery]   \n",
       "999  {'latitude': 34.0558406, 'longitude': -118.178...  [pickup, delivery]   \n",
       "\n",
       "                                              location         phone  \\\n",
       "995  {'address1': '125 N Western Ave', 'address2': ...  +13234670404   \n",
       "996  {'address1': '1019 El Centro St', 'address2': ...  +16264035951   \n",
       "997  {'address1': '938 N Hill St', 'address2': None...  +12139887069   \n",
       "998  {'address1': '9663 Reseda Blvd', 'address2': N...  +18182806677   \n",
       "999  {'address1': '4017 City Terrace Dr', 'address2...  +13236858033   \n",
       "\n",
       "      display_phone      distance price  \n",
       "995  (323) 467-0404   1756.623296     $  \n",
       "996  (626) 403-5951  16289.473549    $$  \n",
       "997  (213) 988-7069   7677.630182    $$  \n",
       "998  (818) 280-6677  28534.166120    $$  \n",
       "999  (323) 685-8033  13198.359739    $$  "
      ]
     },
     "metadata": {},
     "output_type": "display_data"
    }
   ],
   "source": [
    "# load final results\n",
    "final_df = pd.read_json(JSON_FILE)\n",
    "display(final_df.head(), final_df.tail())"
   ]
  },
  {
   "cell_type": "code",
   "execution_count": 30,
   "id": "cc39de47-dec3-445d-88fc-ee37f78df862",
   "metadata": {},
   "outputs": [
    {
     "data": {
      "text/plain": [
       "0"
      ]
     },
     "execution_count": 30,
     "metadata": {},
     "output_type": "execute_result"
    }
   ],
   "source": [
    "# check for duplicate ID's\n",
    "final_df.duplicated(subset='id').sum()"
   ]
  },
  {
   "cell_type": "code",
   "execution_count": 31,
   "id": "a6df158c-3327-4cd8-ab50-377705b86de8",
   "metadata": {},
   "outputs": [],
   "source": [
    "# save df to csv\n",
    "final_df.to_csv('Data/final_results_LA_starbucks.csv.gz')"
   ]
  },
  {
   "cell_type": "code",
   "execution_count": null,
   "id": "b6ee4cbf-4f86-4698-a520-5c3e30b991b5",
   "metadata": {},
   "outputs": [],
   "source": []
  }
 ],
 "metadata": {
  "kernelspec": {
   "display_name": "Python (dojo-env)",
   "language": "python",
   "name": "dojo-env"
  },
  "language_info": {
   "codemirror_mode": {
    "name": "ipython",
    "version": 3
   },
   "file_extension": ".py",
   "mimetype": "text/x-python",
   "name": "python",
   "nbconvert_exporter": "python",
   "pygments_lexer": "ipython3",
   "version": "3.10.10"
  },
  "widgets": {
   "application/vnd.jupyter.widget-state+json": {
    "state": {
     "115259cdd9c34ba2b36b79695331de96": {
      "model_module": "@jupyter-widgets/controls",
      "model_module_version": "2.0.0",
      "model_name": "HTMLStyleModel",
      "state": {
       "description_width": "",
       "font_size": null,
       "text_color": null
      }
     },
     "35c2301384294905a79356112d9ce38b": {
      "model_module": "@jupyter-widgets/base",
      "model_module_version": "2.0.0",
      "model_name": "LayoutModel",
      "state": {}
     },
     "52becc6257b14d9a8de1ee08922faa5b": {
      "model_module": "@jupyter-widgets/controls",
      "model_module_version": "2.0.0",
      "model_name": "ProgressStyleModel",
      "state": {
       "description_width": ""
      }
     },
     "6f648812ed9b44c2bfd6f12808c5e0bd": {
      "model_module": "@jupyter-widgets/controls",
      "model_module_version": "2.0.0",
      "model_name": "HBoxModel",
      "state": {
       "children": [
        "IPY_MODEL_b15590c5dbb84e4a9ae8374b23b74107",
        "IPY_MODEL_a9b7fb2d54d543e2931f47ad79bb5390",
        "IPY_MODEL_f2679dba980942dbbbb8235944af1899"
       ],
       "layout": "IPY_MODEL_c945afabe64140058ff6c1eac5e2a124"
      }
     },
     "72a41d3e8a394110a64fb7a8d7a8fda3": {
      "model_module": "@jupyter-widgets/base",
      "model_module_version": "2.0.0",
      "model_name": "LayoutModel",
      "state": {}
     },
     "a9b7fb2d54d543e2931f47ad79bb5390": {
      "model_module": "@jupyter-widgets/controls",
      "model_module_version": "2.0.0",
      "model_name": "FloatProgressModel",
      "state": {
       "bar_style": "danger",
       "layout": "IPY_MODEL_72a41d3e8a394110a64fb7a8d7a8fda3",
       "max": 310,
       "style": "IPY_MODEL_52becc6257b14d9a8de1ee08922faa5b",
       "value": 49
      }
     },
     "b0969b50bf0743eda8d38d76956c075b": {
      "model_module": "@jupyter-widgets/base",
      "model_module_version": "2.0.0",
      "model_name": "LayoutModel",
      "state": {}
     },
     "b15590c5dbb84e4a9ae8374b23b74107": {
      "model_module": "@jupyter-widgets/controls",
      "model_module_version": "2.0.0",
      "model_name": "HTMLModel",
      "state": {
       "layout": "IPY_MODEL_b0969b50bf0743eda8d38d76956c075b",
       "style": "IPY_MODEL_115259cdd9c34ba2b36b79695331de96",
       "value": " 16%"
      }
     },
     "c945afabe64140058ff6c1eac5e2a124": {
      "model_module": "@jupyter-widgets/base",
      "model_module_version": "2.0.0",
      "model_name": "LayoutModel",
      "state": {}
     },
     "d58c6d34387c48c8a7d6c42c09c36dfd": {
      "model_module": "@jupyter-widgets/controls",
      "model_module_version": "2.0.0",
      "model_name": "HTMLStyleModel",
      "state": {
       "description_width": "",
       "font_size": null,
       "text_color": null
      }
     },
     "f2679dba980942dbbbb8235944af1899": {
      "model_module": "@jupyter-widgets/controls",
      "model_module_version": "2.0.0",
      "model_name": "HTMLModel",
      "state": {
       "layout": "IPY_MODEL_35c2301384294905a79356112d9ce38b",
       "style": "IPY_MODEL_d58c6d34387c48c8a7d6c42c09c36dfd",
       "value": " 49/310 [01:03&lt;07:02,  1.62s/it]"
      }
     }
    },
    "version_major": 2,
    "version_minor": 0
   }
  }
 },
 "nbformat": 4,
 "nbformat_minor": 5
}
